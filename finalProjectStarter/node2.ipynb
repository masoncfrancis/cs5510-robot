{
 "cells": [
  {
   "cell_type": "markdown",
   "metadata": {},
   "source": [
    "For Node 2, which is responsible for subscribing to the camera topic, processing the images to identify balls, and publishing the identified ball information, you'll need to incorporate image processing techniques. Below is a simple example using OpenCV to perform color-based ball detection:"
   ]
  },
  {
   "cell_type": "code",
   "execution_count": null,
   "metadata": {},
   "outputs": [],
   "source": [
    "#!/usr/bin/env python\n",
    "\n",
    "import rospy\n",
    "from sensor_msgs.msg import Image\n",
    "from cv_bridge import CvBridge\n",
    "import cv2\n",
    "import numpy as np\n",
    "\n",
    "class ImageProcessingNode:\n",
    "    def __init__(self):\n",
    "        rospy.init_node('image_processing_node', anonymous=True)\n",
    "\n",
    "        self.image_sub = rospy.Subscriber('/camera/image_raw', Image, self.image_callback)\n",
    "        self.ball_info_pub = rospy.Publisher('/ball_info', String, queue_size=10)\n",
    "\n",
    "        self.bridge = CvBridge()\n",
    "\n",
    "    def image_callback(self, ros_image):\n",
    "        try:\n",
    "            # Convert ROS Image message to OpenCV image\n",
    "            cv_image = self.bridge.imgmsg_to_cv2(ros_image, \"bgr8\")\n",
    "\n",
    "            # Perform image processing to identify balls\n",
    "            ball_info = self.detect_balls(cv_image)\n",
    "\n",
    "            # Publish the identified ball information\n",
    "            self.ball_info_pub.publish(ball_info)\n",
    "        except CvBridgeError as e:\n",
    "            print(e)\n",
    "\n",
    "    def detect_balls(self, cv_image):\n",
    "        # Example: Color-based ball detection using HSV color space\n",
    "        # Adjust the color range based on the balls you are using\n",
    "        lower_color = np.array([0, 100, 100])\n",
    "        upper_color = np.array([10, 255, 255])\n",
    "\n",
    "        hsv_image = cv2.cvtColor(cv_image, cv2.COLOR_BGR2HSV)\n",
    "        mask = cv2.inRange(hsv_image, lower_color, upper_color)\n",
    "        contours, _ = cv2.findContours(mask, cv2.RETR_EXTERNAL, cv2.CHAIN_APPROX_SIMPLE)\n",
    "\n",
    "        # Assume only one ball for simplicity\n",
    "        if len(contours) > 0:\n",
    "            # Calculate the center of the ball\n",
    "            M = cv2.moments(contours[0])\n",
    "            if M[\"m00\"] != 0:\n",
    "                cx = int(M[\"m10\"] / M[\"m00\"])\n",
    "                cy = int(M[\"m01\"] / M[\"m00\"])\n",
    "\n",
    "                # Publish ball information\n",
    "                ball_info = f\"Ball detected at ({cx}, {cy})\"\n",
    "                return ball_info\n",
    "\n",
    "        return \"No ball detected\"\n",
    "\n",
    "if __name__ == '__main__':\n",
    "    try:\n",
    "        image_processing_node = ImageProcessingNode()\n",
    "        rospy.spin()\n",
    "    except rospy.ROSInterruptException:\n",
    "        pass\n"
   ]
  },
  {
   "cell_type": "markdown",
   "metadata": {},
   "source": [
    "In this example, the `detect_balls` method uses color-based segmentation in the HSV color space to identify the balls. You might need to adjust the color range and consider other features (size, texture) based on your specific balls.\n",
    "\n",
    "Ensure that you replace `/ball_info` with the desired topic name for publishing the ball information.\n",
    "\n",
    "Remember to make the script executable and source your ROS workspace before running the script:"
   ]
  },
  {
   "cell_type": "code",
   "execution_count": null,
   "metadata": {},
   "outputs": [],
   "source": [
    "chmod +x your_image_processing_node_script.py\n",
    "source /path/to/your/ros/workspace/devel/setup.bash"
   ]
  },
  {
   "cell_type": "markdown",
   "metadata": {},
   "source": [
    "This script subscribes to the camera topic, processes images to identify balls, and publishes the identified ball information. Use tools like `rostopic echo` to check if the ball information is being published correctly. Adapt the code according to your specific image processing requirements."
   ]
  }
 ],
 "metadata": {
  "language_info": {
   "name": "python"
  }
 },
 "nbformat": 4,
 "nbformat_minor": 2
}
