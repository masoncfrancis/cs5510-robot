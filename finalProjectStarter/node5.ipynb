{
 "cells": [
  {
   "cell_type": "markdown",
   "metadata": {},
   "source": [
    "For Node 5, which is responsible for performance analysis, you can create a node that subscribes to relevant topics (e.g., /camera/image_raw, /ball_info, etc.), collects data on identification accuracy and successful motion planning, and logs or publishes this information. Here's a basic template to get you started:"
   ]
  },
  {
   "cell_type": "code",
   "execution_count": null,
   "metadata": {},
   "outputs": [],
   "source": [
    "#!/usr/bin/env python\n",
    "\n",
    "import rospy\n",
    "from sensor_msgs.msg import Image\n",
    "from std_msgs.msg import String\n",
    "from your_custom_msgs.msg import PerformanceMetrics  # Replace with the correct message type\n",
    "\n",
    "class PerformanceAnalysisNode:\n",
    "    def __init__(self):\n",
    "        rospy.init_node('performance_analysis_node', anonymous=True)\n",
    "\n",
    "        self.image_sub = rospy.Subscriber('/camera/image_raw', Image, self.image_callback)\n",
    "        self.ball_info_sub = rospy.Subscriber('/ball_info', String, self.ball_info_callback)\n",
    "\n",
    "        # Add any additional subscribers as needed\n",
    "\n",
    "        # Create a publisher for performance metrics\n",
    "        self.performance_pub = rospy.Publisher('/performance_metrics', PerformanceMetrics, queue_size=10)\n",
    "\n",
    "        self.total_frames = 0\n",
    "        self.correct_identifications = 0\n",
    "        self.successful_motion_plans = 0\n",
    "\n",
    "    def image_callback(self, image_msg):\n",
    "        # Add image processing logic and update performance metrics\n",
    "        self.total_frames += 1\n",
    "\n",
    "    def ball_info_callback(self, ball_info_msg):\n",
    "        # Add logic to check if the motion planning was successful\n",
    "        # Update performance metrics based on the success of motion planning\n",
    "        self.correct_identifications += 1\n",
    "\n",
    "    def log_performance_metrics(self):\n",
    "        # Calculate performance metrics (e.g., identification accuracy, success rate)\n",
    "        identification_accuracy = (\n",
    "            self.correct_identifications / float(self.total_frames) if self.total_frames > 0 else 0.0\n",
    "        )\n",
    "        success_rate = (\n",
    "            self.successful_motion_plans / float(self.correct_identifications) if self.correct_identifications > 0 else 0.0\n",
    "        )\n",
    "\n",
    "        # Create a PerformanceMetrics message\n",
    "        performance_msg = PerformanceMetrics()\n",
    "        performance_msg.identification_accuracy = identification_accuracy\n",
    "        performance_msg.success_rate = success_rate\n",
    "\n",
    "        # Publish performance metrics\n",
    "        self.performance_pub.publish(performance_msg)\n",
    "\n",
    "if __name__ == '__main__':\n",
    "    try:\n",
    "        performance_analysis_node = PerformanceAnalysisNode()\n",
    "        rospy.spin()\n",
    "    except rospy.ROSInterruptException:\n",
    "        pass\n"
   ]
  },
  {
   "cell_type": "markdown",
   "metadata": {},
   "source": [
    "In this template, the `PerformanceAnalysisNode` class has callbacks for the `/camera/image_raw` and `/ball_info` topics. You'll need to add image processing logic in the `image_callback` method to analyze the performance of ball identification. Similarly, in the `ball_info_callback` method, you should add logic to check if the motion planning was successful.\n",
    "\n",
    "The `log_performance_metrics` method calculates identification accuracy and success rate and publishes the results using a custom message type called `PerformanceMetrics`. Please replace `your_custom_msgs.msg` with the correct package where your custom message type is defined, and adjust the message structure as needed.\n",
    "\n",
    "Don't forget to create a new message file (e.g., `PerformanceMetrics.msg`) and update your `CMakeLists.txt` and `package.xml` files accordingly. After building your workspace, you can use this custom message in the `PerformanceAnalysisNode` script.\n",
    "\n",
    "As always, adapt the code based on your specific project requirements and customize the performance metrics based on what you want to analyze and report."
   ]
  }
 ],
 "metadata": {
  "language_info": {
   "name": "python"
  }
 },
 "nbformat": 4,
 "nbformat_minor": 2
}
