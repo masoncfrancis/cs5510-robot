{
 "cells": [
  {
   "cell_type": "markdown",
   "metadata": {},
   "source": [
    "For Node 3, which is responsible for moving the robot toward the identified ball and stopping when the ball is in the target region, you'll likely need to integrate with the robot's motor control or navigation system. Here's a simplified example using ROS's geometry_msgs/Twist messages for controlling a differential drive robot:"
   ]
  },
  {
   "cell_type": "code",
   "execution_count": null,
   "metadata": {},
   "outputs": [],
   "source": [
    "#!/usr/bin/env python\n",
    "\n",
    "import rospy\n",
    "from std_msgs.msg import String\n",
    "from geometry_msgs.msg import Twist\n",
    "\n",
    "class MotionControlNode:\n",
    "    def __init__(self):\n",
    "        rospy.init_node('motion_control_node', anonymous=True)\n",
    "\n",
    "        self.ball_info_sub = rospy.Subscriber('/ball_info', String, self.ball_info_callback)\n",
    "        self.cmd_vel_pub = rospy.Publisher('/cmd_vel', Twist, queue_size=10)\n",
    "\n",
    "        self.target_ball_type = \"TypeA\"  # Replace with the type of ball you want to move\n",
    "        self.target_region_x_min = 300  # Replace with your target region coordinates\n",
    "        self.target_region_x_max = 500\n",
    "        self.target_region_y_min = 100\n",
    "        self.target_region_y_max = 300\n",
    "\n",
    "    def ball_info_callback(self, ball_info_msg):\n",
    "        if self.target_ball_type in ball_info_msg.data:\n",
    "            # Ball of target type detected, extract ball position\n",
    "            ball_position_str = ball_info_msg.data.split(\"at \")[1]\n",
    "            ball_position = [int(coord) for coord in ball_position_str[:-1].split(\",\")]\n",
    "\n",
    "            # Move the robot toward the ball and check if it's in the target region\n",
    "            self.move_toward_ball(ball_position)\n",
    "\n",
    "    def move_toward_ball(self, ball_position):\n",
    "        # Example: Simple proportional control for lateral motion\n",
    "        kp = 0.1\n",
    "        linear_speed = 0.1\n",
    "\n",
    "        # Calculate the error in x-axis (lateral error)\n",
    "        error = ball_position[0] - (self.target_region_x_min + self.target_region_x_max) / 2\n",
    "\n",
    "        # Apply proportional control\n",
    "        lateral_velocity = -kp * error\n",
    "\n",
    "        # Publish Twist message to control robot's motion\n",
    "        cmd_vel_msg = Twist()\n",
    "        cmd_vel_msg.linear.x = linear_speed\n",
    "        cmd_vel_msg.angular.z = lateral_velocity\n",
    "        self.cmd_vel_pub.publish(cmd_vel_msg)\n",
    "\n",
    "        # Check if the ball is in the target region\n",
    "        if (\n",
    "            self.target_region_x_min <= ball_position[0] <= self.target_region_x_max\n",
    "            and self.target_region_y_min <= ball_position[1] <= self.target_region_y_max\n",
    "        ):\n",
    "            # Stop the robot if the ball is in the target region\n",
    "            cmd_vel_msg.linear.x = 0.0\n",
    "            cmd_vel_msg.angular.z = 0.0\n",
    "            self.cmd_vel_pub.publish(cmd_vel_msg)\n",
    "\n",
    "if __name__ == '__main__':\n",
    "    try:\n",
    "        motion_control_node = MotionControlNode()\n",
    "        rospy.spin()\n",
    "    except rospy.ROSInterruptException:\n",
    "        pass\n"
   ]
  },
  {
   "cell_type": "markdown",
   "metadata": {},
   "source": [
    "This script subscribes to the `/ball_info topic`, extracts the ball's position, and uses a simple proportional control to move the robot toward the ball laterally. Adjust the control parameters and algorithms based on your robot's dynamics and the specific requirements of your project.\n",
    "\n",
    "Make sure to replace `/cmd_vel` with the appropriate topic for controlling your robot's motion. Additionally, adjust the target ball type and target region coordinates to match your specific use case.\n",
    "\n",
    "Remember to make the script executable and source your ROS workspace before running the script:"
   ]
  },
  {
   "cell_type": "code",
   "execution_count": null,
   "metadata": {},
   "outputs": [],
   "source": [
    "chmod +x your_motion_control_node_script.py\n",
    "source /path/to/your/ros/workspace/devel/setup.bash"
   ]
  },
  {
   "cell_type": "markdown",
   "metadata": {},
   "source": [
    "Run this script on your robot's Raspberry Pi, and it should start moving the robot toward the identified ball. Use tools like rostopic echo to check if the motion commands are being published correctly. Adapt the code according to your robot's motor control or navigation system."
   ]
  },
  {
   "cell_type": "markdown",
   "metadata": {},
   "source": [
    "To integrate the provided `Car` class into Node 3 for controlling the robot's motion, you can create an instance of the `Car` class and use its methods to control the motors. Here's the updated code for Node 3:"
   ]
  },
  {
   "cell_type": "code",
   "execution_count": null,
   "metadata": {},
   "outputs": [],
   "source": [
    "#!/usr/bin/env python\n",
    "\n",
    "import rospy\n",
    "from std_msgs.msg import String\n",
    "from geometry_msgs.msg import Twist\n",
    "from your_car_module import Car  # Replace with the correct module name\n",
    "\n",
    "class MotionControlNode:\n",
    "    def __init__(self):\n",
    "        rospy.init_node('motion_control_node', anonymous=True)\n",
    "\n",
    "        self.ball_info_sub = rospy.Subscriber('/ball_info', String, self.ball_info_callback)\n",
    "\n",
    "        # Create an instance of the Car class\n",
    "        self.robot_car = Car()\n",
    "\n",
    "    def ball_info_callback(self, ball_info_msg):\n",
    "        if self.target_ball_type in ball_info_msg.data:\n",
    "            # Ball of target type detected, extract ball position\n",
    "            ball_position_str = ball_info_msg.data.split(\"at \")[1]\n",
    "            ball_position = [int(coord) for coord in ball_position_str[:-1].split(\",\")]\n",
    "\n",
    "            # Move the robot toward the ball and check if it's in the target region\n",
    "            self.move_toward_ball(ball_position)\n",
    "\n",
    "    def move_toward_ball(self, ball_position):\n",
    "        # Example: Simple proportional control for lateral motion\n",
    "        kp = 0.1\n",
    "        linear_speed = 0.1\n",
    "\n",
    "        # Calculate the error in x-axis (lateral error)\n",
    "        error = ball_position[0] - (self.target_region_x_min + self.target_region_x_max) / 2\n",
    "\n",
    "        # Apply proportional control\n",
    "        lateral_velocity = -kp * error\n",
    "\n",
    "        # Publish Twist message to control robot's motion\n",
    "        cmd_vel_msg = Twist()\n",
    "        cmd_vel_msg.linear.x = linear_speed\n",
    "        cmd_vel_msg.angular.z = lateral_velocity\n",
    "\n",
    "        # Use the Car class to control the robot's motors\n",
    "        self.control_robot_motion(cmd_vel_msg)\n",
    "\n",
    "    def control_robot_motion(self, cmd_vel_msg):\n",
    "        # Convert linear and angular velocities to left and right motor speeds\n",
    "        left_speed = int((cmd_vel_msg.linear.x - cmd_vel_msg.angular.z) * 255)\n",
    "        right_speed = int((cmd_vel_msg.linear.x + cmd_vel_msg.angular.z) * 255)\n",
    "\n",
    "        # Limit speeds to the valid range (-255, 255)\n",
    "        left_speed = max(-255, min(255, left_speed))\n",
    "        right_speed = max(-255, min(255, right_speed))\n",
    "\n",
    "        # Control the robot's motion using the Car class\n",
    "        self.robot_car.control_car(left_speed, right_speed)\n",
    "\n",
    "if __name__ == '__main__':\n",
    "    try:\n",
    "        motion_control_node = MotionControlNode()\n",
    "        rospy.spin()\n",
    "    except rospy.ROSInterruptException:\n",
    "        pass\n"
   ]
  },
  {
   "cell_type": "markdown",
   "metadata": {},
   "source": [
    "In this updated code, I added a `control_robot_motion` method to convert the linear and angular velocities from the `Twist` message to left and right motor speeds. These motor speeds are then passed to the `control_car` method of the `Car` class.\n",
    "\n",
    "Ensure that you replace `your_car_module` with the correct module name where the `Car` class is defined. Also, make sure that the `control_car` method of the `Car` class is compatible with the motor control logic you want to implement.\n",
    "\n",
    "This code assumes that the `control_car` method takes two arguments representing the left and right motor speeds and sets the motor speeds accordingly. Adjust the method if necessary based on the actual implementation of your `Car` class."
   ]
  }
 ],
 "metadata": {
  "language_info": {
   "name": "python"
  }
 },
 "nbformat": 4,
 "nbformat_minor": 2
}
