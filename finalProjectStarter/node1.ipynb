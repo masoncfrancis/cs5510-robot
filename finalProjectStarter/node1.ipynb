{
 "cells": [
  {
   "cell_type": "markdown",
   "metadata": {},
   "source": [
    "For Node 1, which is responsible for capturing images from the camera and publishing them to a camera topic, you'll likely want to use the raspicam_node package. This package provides a ROS node for interfacing with the Raspberry Pi Camera Module.\n",
    "\n",
    "Here is a simple example of how you can set up Node 1:"
   ]
  },
  {
   "cell_type": "code",
   "execution_count": null,
   "metadata": {},
   "outputs": [],
   "source": [
    "#!/usr/bin/env python\n",
    "\n",
    "import rospy\n",
    "from sensor_msgs.msg import Image\n",
    "from cv_bridge import CvBridge\n",
    "import cv2\n",
    "\n",
    "class CameraNode:\n",
    "    def __init__(self):\n",
    "        rospy.init_node('camera_node', anonymous=True)\n",
    "\n",
    "        self.image_pub = rospy.Publisher('/camera/image_raw', Image, queue_size=10)\n",
    "\n",
    "        self.bridge = CvBridge()\n",
    "\n",
    "        # Set up the camera\n",
    "        self.cap = cv2.VideoCapture(0)  # Assuming the camera is connected to the Raspberry Pi\n",
    "\n",
    "    def capture_and_publish(self):\n",
    "        while not rospy.is_shutdown():\n",
    "            # Capture frame-by-frame\n",
    "            ret, frame = self.cap.read()\n",
    "\n",
    "            if ret:\n",
    "                # Convert the frame to ROS Image message\n",
    "                ros_image = self.bridge.cv2_to_imgmsg(frame, \"bgr8\")\n",
    "\n",
    "                # Publish the image\n",
    "                self.image_pub.publish(ros_image)\n",
    "\n",
    "            rospy.sleep(0.1)  # Adjust the sleep duration based on your requirements\n",
    "\n",
    "if __name__ == '__main__':\n",
    "    try:\n",
    "        camera_node = CameraNode()\n",
    "        camera_node.capture_and_publish()\n",
    "    except rospy.ROSInterruptException:\n",
    "        pass\n"
   ]
  },
  {
   "cell_type": "markdown",
   "metadata": {},
   "source": [
    "Make sure you have the necessary packages installed:"
   ]
  },
  {
   "cell_type": "code",
   "execution_count": null,
   "metadata": {},
   "outputs": [],
   "source": [
    "sudo apt-get install ros-<your_ros_version>-sensor-msgs\n",
    "sudo apt-get install ros-<your_ros_version>-cv-bridge"
   ]
  },
  {
   "cell_type": "markdown",
   "metadata": {},
   "source": [
    "Replace `<your_ros_version>` with the version of ROS you are using (e.g., kinetic, melodic).\n",
    "\n",
    "This code assumes that the camera is connected to the Raspberry Pi and accessible via OpenCV. The `capture_and_publish` method captures frames, converts them to ROS Image messages, and publishes them on the `/camera/image_raw` topic. Adjust the topic name and camera parameters as needed.\n",
    "\n",
    "Remember to make the script executable:"
   ]
  },
  {
   "cell_type": "code",
   "execution_count": null,
   "metadata": {},
   "outputs": [],
   "source": [
    "chmod +x your_camera_node_script.py"
   ]
  },
  {
   "cell_type": "markdown",
   "metadata": {},
   "source": [
    "Run this script on your Raspberry Pi, and it should start capturing images and publishing them to the specified ROS topic. You can use tools like `rostopic echo` to check if the images are being published correctly.\n",
    "\n",
    "Note: Make sure you have sourced your ROS workspace before running the script:"
   ]
  },
  {
   "cell_type": "code",
   "execution_count": null,
   "metadata": {},
   "outputs": [],
   "source": [
    "source /path/to/your/ros/workspace/devel/setup.bash"
   ]
  }
 ],
 "metadata": {
  "language_info": {
   "name": "python"
  }
 },
 "nbformat": 4,
 "nbformat_minor": 2
}
